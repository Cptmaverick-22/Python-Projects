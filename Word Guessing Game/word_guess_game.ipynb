{
 "cells": [
  {
   "cell_type": "code",
   "execution_count": 13,
   "metadata": {},
   "outputs": [],
   "source": [
    "import random as rn"
   ]
  },
  {
   "cell_type": "code",
   "execution_count": 14,
   "metadata": {},
   "outputs": [
    {
     "name": "stdout",
     "output_type": "stream",
     "text": [
      "apple\n",
      "ae\n"
     ]
    }
   ],
   "source": [
    "words = ['hello','dog','apple','class','orange']\n",
    "random_choice = rn.choice(words)\n",
    "print(random_choice)\n",
    "hint = random_choice[0]+random_choice[-1]\n",
    "print(hint)"
   ]
  },
  {
   "cell_type": "code",
   "execution_count": 17,
   "metadata": {},
   "outputs": [
    {
     "name": "stdout",
     "output_type": "stream",
     "text": [
      "Welcome to word game sourasish\n",
      "You will have 6 chances to guess the word\n"
     ]
    }
   ],
   "source": [
    "name = input(\"Enter your name: \")\n",
    "print(\"Welcome to word game\",name)\n",
    "print(\"You will have 6 chances to guess the word\")\n",
    "chance = 6\n",
    "guessed = []\n",
    "count = 0"
   ]
  },
  {
   "cell_type": "code",
   "execution_count": 19,
   "metadata": {},
   "outputs": [
    {
     "name": "stdout",
     "output_type": "stream",
     "text": [
      "you have guessed one letter correctly\n",
      "you have guessed one letter correctly\n",
      "Incorrect guess\n",
      "Incorrect guess\n",
      "Incorrect guess\n",
      "Incorrect guess\n",
      "\n",
      "Lets see how much you have guessed the word: \n",
      "You have guessed 6 letters correctly and the letters are:  ['a', 'p', 'e', 'e', 'a', 'p']\n",
      "\n",
      "Now guess the whole word\n",
      "Ahh, you lose :( \n",
      "The correct Letter was:  apple\n",
      "\n"
     ]
    },
    {
     "data": {
      "text/plain": [
       "''"
      ]
     },
     "execution_count": 19,
     "metadata": {},
     "output_type": "execute_result"
    }
   ],
   "source": [
    "for i in range(chance):\n",
    "    while True:   \n",
    "        letter = input(\"guess a letter: \")\n",
    "\n",
    "        if len(letter) == 1:\n",
    "            break\n",
    "        else:\n",
    "            print(\"please guess a letter\")\n",
    "\n",
    "    if letter in random_choice:\n",
    "        print(\"you have guessed one letter correctly\")\n",
    "        guessed.append(letter)\n",
    "    else:\n",
    "        print(\"Incorrect guess\")\n",
    "\n",
    "\n",
    "    if (i-1) == 3:\n",
    "        clue = input(\"will you want to have a clue: \")\n",
    "        if clue.lower().startswith('y'):\n",
    "            print(\"The first and last letter of the word is: \",hint)\n",
    "        else:\n",
    "            print(\"You are very confident: \")\n",
    "        \n",
    "print()\n",
    "print(\"Lets see how much you have guessed the word: \")\n",
    "print(f\"You have guessed {len(guessed)} letters correctly and the letters are: \",guessed)   \n",
    "print()\n",
    "print(\"Now guess the whole word\")\n",
    "\n",
    "whole_word = input(\"Enter the whole word: \")\n",
    "\n",
    "if whole_word == random_choice:\n",
    "    print(\"Congratulations You got it !!!!\")\n",
    "else:\n",
    "    print(\"Ahh, you lose :( \")\n",
    "    print(\"The correct Letter was: \",random_choice)\n",
    "\n",
    "print()\n",
    "input(\"Please press enter to leave the program\")\n"
   ]
  }
 ],
 "metadata": {
  "kernelspec": {
   "display_name": "Python 3",
   "language": "python",
   "name": "python3"
  },
  "language_info": {
   "codemirror_mode": {
    "name": "ipython",
    "version": 3
   },
   "file_extension": ".py",
   "mimetype": "text/x-python",
   "name": "python",
   "nbconvert_exporter": "python",
   "pygments_lexer": "ipython3",
   "version": "3.12.5"
  }
 },
 "nbformat": 4,
 "nbformat_minor": 2
}
